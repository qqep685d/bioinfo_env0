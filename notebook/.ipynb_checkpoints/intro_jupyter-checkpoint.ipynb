{
 "cells": [
  {
   "cell_type": "markdown",
   "metadata": {},
   "source": [
    "# Jupyter Notebook 入門\n",
    "\n",
    "## 1. はじめに\n",
    "\n",
    "### 1.1 Jupyter Notebook (ジュピター・ノートブック) とは何か？\n",
    "- プログラム（コードやスクリプトとも言う）を書いて、実行できるツールです。\n",
    "- 「Python」と呼ばれるプログラミング言語を書くのによく使われています。\n",
    "\n",
    "### 1.2 このノートブックでの目標\n",
    "- Jupyter Notebookの使い方を知る\n",
    "- 簡単なPythonプログラムを書いて、実行してみる\n",
    "\n",
    "早速、実習していきましょう。\n",
    "\n",
    "---"
   ]
  },
  {
   "cell_type": "markdown",
   "metadata": {},
   "source": [
    "## 2. 簡単なPythonプログラムを作る\n",
    "\n",
    "### 2.1 プログラムで文章を表示させる\n",
    "\n",
    "下の灰色で囲まれた部分を「セル」と呼びます。  \n",
    "プログラムはセルに書いていきます。  \n",
    "\n",
    "#### 実習\n",
    "1. 下のセルに、 `print(\"Welcom to Python world.\")` を書いてください。  \n",
    "1. 書けたら、キーボードの`Shift + Enter`を押してください（Shiftキーを押しながら、Enterキーを押す）。\n",
    "\n",
    "プログラムの実行結果（`Welcom to Python world.`）がセルの下に表示されれば成功です。\n",
    "\n",
    "#### 実習（余裕がある人はこちらもどうぞ）\n",
    "- `print(\"Welcom to Python world.\")` を3行書いて実行してください。\n",
    "- ダブルクオテーション「\"」で挟まれた部分を、別の文章に書き換えて実行してください。\n",
    "- ダブルクオテーション「\"」を消して実行してください。（出力結果：エラー文が表示されます）\n"
   ]
  },
  {
   "cell_type": "code",
   "execution_count": null,
   "metadata": {
    "slideshow": {
     "slide_type": "-"
    }
   },
   "outputs": [],
   "source": []
  },
  {
   "cell_type": "markdown",
   "metadata": {},
   "source": [
    "[補足] セル内のプログラムの実行する方法は他にもあります。  \n",
    "- 上のメニューバーにある Cell > Run Cells を押す\n",
    "- 上のツールバーの「RUN」を押す\n",
    "- セルにの左側に表示されるRUN記号を押す"
   ]
  },
  {
   "cell_type": "markdown",
   "metadata": {},
   "source": [
    "### 2.2 プログラムで数値計算をする\n",
    "今度は数値計算をしてみましょう。  \n",
    "Pythonでは四則計算に次の記号を使います。\n",
    "- `足し算 +`\n",
    "- `引き算 -`\n",
    "- `掛け算 *`\n",
    "- `割り算 /`\n",
    "\n",
    "#### 実習\n",
    "1. 下のセルに、`print(1 + 1)`を書いてください。\n",
    "2. 書けたら、「Shift」 + 「Enter」 を押して実行してください。\n",
    "\n",
    "#### 実習（余裕がある人はこちらもどうぞ）\n",
    "- `print()`の中身を別の数値や計算式に変更して実行してください。\n",
    "- `print()`の中身をダブルクオテーション「\"」で挟んで実行してください。（入力例：`print(\"1 + 1\")`）"
   ]
  },
  {
   "cell_type": "code",
   "execution_count": null,
   "metadata": {},
   "outputs": [],
   "source": []
  },
  {
   "cell_type": "markdown",
   "metadata": {},
   "source": [
    "### 2.3 「簡単なPythonプログラムを作る」のまとめ\n",
    "- Jupyter Notebook を使えば、Pythonコードを書いて実行できる\n",
    "- プログラムを書いた後、`Shift + Enter` で書いたコードを実行できる\n",
    "- Pythonプログラムにより、文章を出力させたり、数値計算ができる\n",
    "\n",
    "---"
   ]
  },
  {
   "cell_type": "markdown",
   "metadata": {},
   "source": [
    "## 3 便利なショートカットキー\n",
    "\n",
    "### 3.1 非常によくショートカットキー\n",
    "- `Ctrl + C`: 選択中の文字をコピーする\n",
    "- `Ctrl + V`: コピーした文字を貼り付ける（ペースト）\n",
    "\n",
    "__Macの方は、`Ctrl`を`command`に置き換えてください。__\n",
    "\n",
    "#### 実習\n",
    "次のプログラム3行をコピーして、下のセルに貼り付けて、実行してください。\n",
    "\n",
    "```python\n",
    "for num in range(10):\n",
    "    print(num, num*num)\n",
    "    print(\"------\")\n",
    "```"
   ]
  },
  {
   "cell_type": "code",
   "execution_count": null,
   "metadata": {},
   "outputs": [],
   "source": []
  },
  {
   "cell_type": "markdown",
   "metadata": {},
   "source": [
    "### 3.2 そこそこ使うショートカットキーの一覧\n",
    "- `Ctrl + A`: 全選択\n",
    "- `Ctrl + X`: 選択した文字を切り取る（カット）  \n",
    "カットした文字は一時的に記憶されるので、貼り付け（ペースト）で書き出すことが可能です\n",
    "- `Ctrl + Z`: 一つ前に戻る\n",
    "\n",
    "__Macの方は、`Ctrl`を`command`に置き換えてください。__\n",
    "\n",
    "#### 実習\n",
    "1. 下のセルに入力されているプログラムを全選択して、カットして、さらに下のセルに貼り付けてください。\n",
    "2. 貼り付け先のセルのプログラムを実行してください。\n",
    "3. カット元のセルに戻り、「一つ前に戻る」をおこなってください。"
   ]
  },
  {
   "cell_type": "code",
   "execution_count": 1,
   "metadata": {},
   "outputs": [
    {
     "name": "stdout",
     "output_type": "stream",
     "text": [
      "Stop!\n"
     ]
    }
   ],
   "source": [
    "color = \"red\"\n",
    "if color == \"blue\":\n",
    "    print(\"Go!\")\n",
    "else:\n",
    "    print(\"Stop!\")"
   ]
  },
  {
   "cell_type": "code",
   "execution_count": null,
   "metadata": {},
   "outputs": [],
   "source": []
  },
  {
   "cell_type": "markdown",
   "metadata": {},
   "source": [
    "[補足] 「一つ前に戻る」の動作は、選択中のセルを一つ前の状態に戻します。セルをまたぐ処理結果が戻されるわけではありません。"
   ]
  },
  {
   "cell_type": "markdown",
   "metadata": {},
   "source": [
    "### 3.3 「便利なショートカットキー」のまとめ\n",
    "- キーボードで、コピー、貼り付け、全選択、切り取り、一つ前に戻る、といった操作ができる\n",
    "---"
   ]
  },
  {
   "cell_type": "markdown",
   "metadata": {},
   "source": [
    "## 4. Jupyter Notebookのその他機能\n",
    "\n",
    "### 4.1 セルの追加・移動・削除する\n",
    "- セルの追加: ツールバーの「+（プラス）記号」\n",
    "- セルの移動: ツールバーの「↑（上矢印）記号」や「↓（下矢印）記号」\n",
    "- セルの削除:　ツールバーの「✂︎（ハサミ）記号」\n",
    "\n",
    "#### 実習\n",
    "1. 新しいセルを追加してください。\n",
    "2. 追加したセルを一つ下に移動させてください。\n",
    "3. 続けて、セルを一つ上に移動させてください。（元の位置に戻す）\n",
    "4. 追加したセルを削除してください。"
   ]
  },
  {
   "cell_type": "raw",
   "metadata": {},
   "source": []
  },
  {
   "cell_type": "markdown",
   "metadata": {},
   "source": [
    "### 4.2 ノートブックのファイル名を変更する\n"
   ]
  },
  {
   "cell_type": "markdown",
   "metadata": {},
   "source": [
    "### 4.3 ノートブックファイルをダウンロードする・アップロードする\n"
   ]
  },
  {
   "cell_type": "code",
   "execution_count": null,
   "metadata": {},
   "outputs": [],
   "source": []
  }
 ],
 "metadata": {
  "kernelspec": {
   "display_name": "Python 3",
   "language": "python",
   "name": "python3"
  },
  "language_info": {
   "codemirror_mode": {
    "name": "ipython",
    "version": 3
   },
   "file_extension": ".py",
   "mimetype": "text/x-python",
   "name": "python",
   "nbconvert_exporter": "python",
   "pygments_lexer": "ipython3",
   "version": "3.6.3"
  }
 },
 "nbformat": 4,
 "nbformat_minor": 1
}
