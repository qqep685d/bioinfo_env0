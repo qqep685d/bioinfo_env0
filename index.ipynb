{
 "cells": [
  {
   "cell_type": "markdown",
   "metadata": {},
   "source": [
    "# ゲノム情報解析入門\n",
    "解析環境にようこそ!\n",
    "\n",
    "---\n",
    "\n",
    "| No. | 実習内容 | 実習日 | 実習資料 |\n",
    "|:---|:---|:---|:---|\n",
    "|01| イントロダクション | 10月2日（火）| [シラバス](https://ocw.kyoto-u.ac.jp/syllabuses/111/7/5323000) |\n",
    "|02| 解析環境の構築とその使い方 | 10月9日（火）|[テキスト](notebook/02_setup/02_intro_jupyter.ipynb) / [課題](notebook/02_setup/02_intro_jupyter_hw.ipynb) / [解答例](notebook/02_setup/02_intro_jupyter_hw_ans.ipynb) |\n",
    "|03| Pythonプログラミング | 10月16日（火）|[テキスト](notebook/03_japanese/2_python_examples.ipynb) / [Textbook](notebook/03_english/2_python_examples.ipynb)<br>[課題](notebook/03_japanese/3_python_exercises.ipynb) / [Homework](notebook/03_english/3_python_exercises.ipynb)<br>(only Exercises 1)<br>[解答例](notebook/03_japanese/3.1_python_answers.ipynb) / [Answers](notebook/03_english/3.1_python_answers.ipynb) |\n",
    "|04| Pythonプログラミング<br>（前回の続き Example7-） | 10月23日（火）|[課題](notebook/03_japanese/4_python_exercises.ipynb) / [Homework](notebook/03_english/4_python_exercises.ipynb)<br>(Exercises 2 and 3) <br>[解答例](notebook/03_japanese/4.1_python_answers.ipynb) / [Answers](notebook/03_english/4.1_python_answers.ipynb) |\n",
    "|05| Pythonプログラミング<br>（第03, 04回課題の解説） | 10月30日（火）| [テキスト](notebook/03_japanese/6_python_practice.ipynb) / [Textbook](notebook/03_english/6_python_practice.ipynb)<br>[課題](notebook/03_japanese/7_genome_scan.ipynb) / [Homework](notebook/03_english/7_genome_scan.ipynb)<br>(Only Exercises 4) |\n",
    "|06| 大規模データ解析 | 11月6日（火）| [テキスト](notebook/06_large_data_analysis/01_large_data_analysis_ja.ipynb) / [Textbook](notebook/06_large_data_analysis/01_large_data_analysis_en.ipynb)<br>[課題](notebook/06_large_data_analysis/01_large_data_analysis_hw_ja.ipynb) / [Homework](notebook/06_large_data_analysis/01_large_data_analysis_hw_en.ipynb) |\n",
    "\n",
    "---\n",
    "\n",
    "__＊注意＊__\n",
    "\n",
    "- 作業内容は保存されません。  \n",
    "ブラウザを閉じると、作業内容は削除されます。\n",
    "    - 新規のファイルやフォルダの作成\n",
    "    - 既存のファイルやフォルダの削除\n",
    "    - 既存のファイルの編集\n",
    "\n",
    "\n",
    "- 作業内容を保存したい場合は、ダウンロード機能を利用してください。\n",
    "    1. 保存したいファイルを開く\n",
    "    2. File > Download as\n",
    "      ノートブック形式で保存したい場合は「Notebook (.ipynb)」を選択\n",
    "\n",
    "\n",
    "- ダウンロードしたファイルは、アップロードすることで再度開くことができます。\n",
    "    1. ファイル選択ページ\n",
    "    2. 右上の方にある「Upload」\n",
    "    3. ファイル(.ipynb)を選択する\n",
    "    4. アップロードしたファイルを開く\n"
   ]
  },
  {
   "cell_type": "code",
   "execution_count": null,
   "metadata": {},
   "outputs": [],
   "source": []
  }
 ],
 "metadata": {
  "kernelspec": {
   "display_name": "Python 3",
   "language": "python",
   "name": "python3"
  },
  "language_info": {
   "codemirror_mode": {
    "name": "ipython",
    "version": 3
   },
   "file_extension": ".py",
   "mimetype": "text/x-python",
   "name": "python",
   "nbconvert_exporter": "python",
   "pygments_lexer": "ipython3",
   "version": "3.6.3"
  }
 },
 "nbformat": 4,
 "nbformat_minor": 1
}
