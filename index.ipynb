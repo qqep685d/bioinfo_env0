{
 "cells": [
  {
   "cell_type": "markdown",
   "metadata": {},
   "source": [
    "# ゲノム情報解析入門\n",
    "解析環境にようこそ!\n",
    "\n",
    "---\n",
    "\n",
    "| No. | 実習内容 | 実習日 | 実習資料 |\n",
    "|:---|:---|:---|:---|\n",
    "|01| イントロダクション | 10月2日（火）| [シラバス](https://ocw.kyoto-u.ac.jp/syllabuses/111/7/5323000) |\n",
    "|02| 解析環境の構築とその使い方 | 10月9日（火）|[テキスト](notebook/intro_jupyter.ipynb) / [課題](notebook/intro_jupyter_hw.ipynb) |\n",
    "|03| Pythonプログラミング | 10月16日（火）| |\n",
    "|04| Pythonプログラミング | 10月23日（火）| |\n",
    "\n",
    "---\n",
    "\n",
    "__＊注意＊__\n",
    "\n",
    "- 作業内容は保存されません。  \n",
    "ブラウザを閉じると、作業内容は削除されます。\n",
    "    - 新規のファイルやフォルダの作成\n",
    "    - 既存のファイルやフォルダの削除\n",
    "    - 既存のファイルの編集\n",
    "\n",
    "\n",
    "- 作業内容を保存したい場合は、ダウンロード機能を利用してください。\n",
    "    1. 保存したいファイルを開く\n",
    "    2. File > Download as\n",
    "      ノートブック形式で保存したい場合は「Notebook (.ipynb)」を選択\n",
    "\n",
    "\n",
    "- ダウンロードしたファイルは、アップロードすることで再度開くことができます。\n",
    "    1. ファイル選択ページ\n",
    "    2. 右上の方にある「Upload」\n",
    "    3. ファイル(.ipynb)を選択する\n",
    "    4. アップロードしたファイルを開く\n",
    "\n",
    "\n",
    "- この解析環境は「ゲノ」"
   ]
  },
  {
   "cell_type": "code",
   "execution_count": null,
   "metadata": {},
   "outputs": [],
   "source": []
  }
 ],
 "metadata": {
  "kernelspec": {
   "display_name": "Python 3",
   "language": "python",
   "name": "python3"
  },
  "language_info": {
   "codemirror_mode": {
    "name": "ipython",
    "version": 3
   },
   "file_extension": ".py",
   "mimetype": "text/x-python",
   "name": "python",
   "nbconvert_exporter": "python",
   "pygments_lexer": "ipython3",
   "version": "3.6.3"
  }
 },
 "nbformat": 4,
 "nbformat_minor": 1
}
